{
  "nbformat": 4,
  "nbformat_minor": 0,
  "metadata": {
    "colab": {
      "provenance": [],
      "authorship_tag": "ABX9TyNTVCW4r+GkA71zoXZf0xse",
      "include_colab_link": true
    },
    "kernelspec": {
      "name": "python3",
      "display_name": "Python 3"
    },
    "language_info": {
      "name": "python"
    }
  },
  "cells": [
    {
      "cell_type": "markdown",
      "metadata": {
        "id": "view-in-github",
        "colab_type": "text"
      },
      "source": [
        "<a href=\"https://colab.research.google.com/github/VasanthMurugan10701/techa_training/blob/main/train_tech.ipynb\" target=\"_parent\"><img src=\"https://colab.research.google.com/assets/colab-badge.svg\" alt=\"Open In Colab\"/></a>"
      ]
    },
    {
      "cell_type": "code",
      "source": [
        "num1 = int(input(\"num1:\"))\n",
        "print(num1)\n",
        "num2 = int(input(\"num2:\"))\n",
        "print(\"product: \",num1*num2)"
      ],
      "metadata": {
        "colab": {
          "base_uri": "https://localhost:8080/"
        },
        "id": "A9I-pI8S1dkO",
        "outputId": "c8d93597-20a5-424d-ef27-53e3c7b914c8"
      },
      "execution_count": null,
      "outputs": [
        {
          "output_type": "stream",
          "name": "stdout",
          "text": [
            "num1:2\n",
            "2\n",
            "num2:3\n",
            "product:  6\n"
          ]
        }
      ]
    },
    {
      "cell_type": "code",
      "source": [
        "num1 = int(input(\"What is the first number: \") )\n",
        "num2 = int(input(\"What is the second number: \"))\n",
        "print(\"product:\",num1*num2)"
      ],
      "metadata": {
        "colab": {
          "base_uri": "https://localhost:8080/"
        },
        "id": "yGwCqgoS2hyp",
        "outputId": "575c94c6-e9be-481b-bf79-c3a323bbd028"
      },
      "execution_count": null,
      "outputs": [
        {
          "output_type": "stream",
          "name": "stdout",
          "text": [
            "What is the first number: 2\n",
            "What is the second number: 5\n",
            "product: 10\n"
          ]
        }
      ]
    },
    {
      "cell_type": "code",
      "source": [
        "name1=(input(\"enter your name\"))\n",
        "print(len(name1))"
      ],
      "metadata": {
        "colab": {
          "base_uri": "https://localhost:8080/"
        },
        "id": "bKAdeaiX3lu3",
        "outputId": "23a0b93b-e9ab-4721-c7da-6b7fe787611b"
      },
      "execution_count": null,
      "outputs": [
        {
          "output_type": "stream",
          "name": "stdout",
          "text": [
            "enter your namevasan\n",
            "5\n"
          ]
        }
      ]
    },
    {
      "cell_type": "code",
      "source": [
        "print(\"a: \" + a) print(\"b: \" + b)"
      ],
      "metadata": {
        "colab": {
          "base_uri": "https://localhost:8080/",
          "height": 106
        },
        "id": "_8bPQQ--4d7U",
        "outputId": "3ab88a6a-8680-41ca-b1d6-ca5875ff4b7c"
      },
      "execution_count": null,
      "outputs": [
        {
          "output_type": "error",
          "ename": "SyntaxError",
          "evalue": "invalid syntax (<ipython-input-18-e70e404e6097>, line 1)",
          "traceback": [
            "\u001b[0;36m  File \u001b[0;32m\"<ipython-input-18-e70e404e6097>\"\u001b[0;36m, line \u001b[0;32m1\u001b[0m\n\u001b[0;31m    print(\"a: \" + a) print(\"b: \" + b)\u001b[0m\n\u001b[0m                     ^\u001b[0m\n\u001b[0;31mSyntaxError\u001b[0m\u001b[0;31m:\u001b[0m invalid syntax\n"
          ]
        }
      ]
    },
    {
      "cell_type": "code",
      "source": [
        "a = input()\n",
        "b = input()\n",
        "print(\"a: \"+a+b)"
      ],
      "metadata": {
        "colab": {
          "base_uri": "https://localhost:8080/"
        },
        "id": "zPJHR-ot4q13",
        "outputId": "e7521632-57b2-4805-9f38-a0c2b175d2be"
      },
      "execution_count": null,
      "outputs": [
        {
          "output_type": "stream",
          "name": "stdout",
          "text": [
            "9\n",
            "8\n",
            "a: 98\n"
          ]
        }
      ]
    },
    {
      "cell_type": "code",
      "source": [
        "w = int(input(\"weight: \"))\n",
        "h = float(input(\"height\"))\n",
        "# Using the exponent operator **\n",
        "BMI = w / h ** 2\n",
        "# or using multiplication and PEMDAS\n",
        "bmi = w / (h * h)\n",
        "\n",
        "bmi = int(bmi)\n",
        "print(bmi)"
      ],
      "metadata": {
        "colab": {
          "base_uri": "https://localhost:8080/"
        },
        "id": "3vRNl1tz44og",
        "outputId": "35eba764-b973-46e4-d333-82990936003f"
      },
      "execution_count": null,
      "outputs": [
        {
          "output_type": "stream",
          "name": "stdout",
          "text": [
            "weight: 61\n",
            "height5.6\n",
            "1\n"
          ]
        }
      ]
    },
    {
      "cell_type": "code",
      "source": [
        "year = int(input())\n",
        "\n",
        "if year % 4 == 0:\n",
        "  if year % 100 == 0:\n",
        "    if year % 400 == 0:\n",
        "      print(\"Leap year\")\n",
        "    else:\n",
        "      print(\"Not leap year\")\n",
        "  else:\n",
        "    print(\"Leap year\")\n",
        "else:\n",
        "  print(\"Not leap year\")\n"
      ],
      "metadata": {
        "colab": {
          "base_uri": "https://localhost:8080/"
        },
        "id": "AWAwOCOm6Lrk",
        "outputId": "69bba03d-c84e-45f9-90fa-d537efd10bba"
      },
      "execution_count": 1,
      "outputs": [
        {
          "output_type": "stream",
          "name": "stdout",
          "text": [
            "898\n",
            "Not leap year\n"
          ]
        }
      ]
    },
    {
      "cell_type": "code",
      "source": [
        "import array\n",
        "a = array.array('i', [2, 4, 5, 6, 10])\n",
        "print('The integer array elements are :')\n",
        "for element in a:\n",
        "print(element, end = ' ')\n"
      ],
      "metadata": {
        "colab": {
          "base_uri": "https://localhost:8080/"
        },
        "id": "kDftvCBtCpQO",
        "outputId": "63da199c-4ef2-4983-b3a3-b200bbd0ef7e"
      },
      "execution_count": null,
      "outputs": [
        {
          "output_type": "stream",
          "name": "stdout",
          "text": [
            "The :\n",
            "2 4 5 6 10 "
          ]
        }
      ]
    },
    {
      "cell_type": "code",
      "source": [
        "import array as ar\n",
        "import numpy as np\n",
        "a = ar.array('f', [2.2, 4.6, 5.0, 6.7, 10.100])\n",
        "a1 = np.round(a, 2)\n",
        "print()\n",
        "print('The float array elements are :')\n",
        "for element in a1:\n",
        "   print(element, end = ' ')"
      ],
      "metadata": {
        "colab": {
          "base_uri": "https://localhost:8080/"
        },
        "id": "Mt5nKaWYIn-g",
        "outputId": "afff5f87-97a8-4416-8223-1fde7ec38f14"
      },
      "execution_count": null,
      "outputs": [
        {
          "output_type": "stream",
          "name": "stdout",
          "text": [
            "\n",
            "The float array elements are :\n",
            "2.2 4.6 5.0 6.7 10.1 "
          ]
        }
      ]
    },
    {
      "cell_type": "code",
      "source": [
        "import array\n",
        "a = array.array('u', ['b', 'd', 'f', 'h', 'z'])\n",
        "print('The character array elements are :')\n",
        "for element in a:\n",
        "  print(element, end = ' ')"
      ],
      "metadata": {
        "colab": {
          "base_uri": "https://localhost:8080/"
        },
        "id": "k-rbzzD6I1N-",
        "outputId": "b0878e33-161d-4063-bab1-fe5c3e04e627"
      },
      "execution_count": null,
      "outputs": [
        {
          "output_type": "stream",
          "name": "stdout",
          "text": [
            "The character array elements are :\n",
            "b d f h z "
          ]
        }
      ]
    },
    {
      "cell_type": "code",
      "source": [
        "import array as ar\n",
        "arr1 = ar.array('f', [2.2, 4.6, 5.0, 6.7, 10.0])\n",
        "# use the same type code and multiply each element of arr1 with 3\n",
        "arr2 = array(arr1.typecode, (a*3 for a in arr1))\n",
        "arr3 = np.round(arr2, 2)\n",
        "print()\n",
        "print('The array3 elements are :')\n",
        "for element in arr3:\n",
        " print(element, end = ' ')"
      ],
      "metadata": {
        "colab": {
          "base_uri": "https://localhost:8080/"
        },
        "id": "EsTq5zcGJKJq",
        "outputId": "1319ca1b-59fb-42e5-d8fb-f8a5b843e9fe"
      },
      "execution_count": null,
      "outputs": [
        {
          "output_type": "stream",
          "name": "stdout",
          "text": [
            "\n",
            "The array3 elements are :\n",
            "6.6 13.8 15.0 20.1 30.0 "
          ]
        }
      ]
    },
    {
      "cell_type": "code",
      "source": [
        "def snakePattern(matrix):\n",
        "    n = len(matrix)\n",
        "    result = []\n",
        "    for i in range(n):\n",
        "        if i % 2 == 0:\n",
        "            result.extend(matrix[i])\n",
        "        else:\n",
        "            result.extend(matrix[i][::-1])\n",
        "    return result\n",
        "matrix=[[45,48,54],[21,89,87],[70,78,15]]\n",
        "result=snakePattern(matrix)\n",
        "print(result)"
      ],
      "metadata": {
        "id": "Z0qcqgB0J3mu",
        "outputId": "d091f04c-cd85-43a5-c4d2-62378fdbec9b",
        "colab": {
          "base_uri": "https://localhost:8080/"
        }
      },
      "execution_count": null,
      "outputs": [
        {
          "output_type": "stream",
          "name": "stdout",
          "text": [
            "[45, 48, 54, 87, 89, 21, 70, 78, 15]\n"
          ]
        }
      ]
    },
    {
      "cell_type": "code",
      "source": [
        "def snakePattern(matrix):\n",
        "    n = len(matrix)\n",
        "    result = []\n",
        "    for i in range(n):\n",
        "        if i % 2 != 0:\n",
        "            result.extend(matrix[i])\n",
        "        else:\n",
        "            result.extend(matrix[i][::-1])\n",
        "    return result\n",
        "matrix=[[45,48,54],[21,89,87],[70,78,15]]\n",
        "result=snakePattern(matrix)\n",
        "print(result)"
      ],
      "metadata": {
        "id": "aEMX0QyCA6-y",
        "outputId": "8651dbe2-61b9-4187-fd98-221c515b7f34",
        "colab": {
          "base_uri": "https://localhost:8080/"
        }
      },
      "execution_count": null,
      "outputs": [
        {
          "output_type": "stream",
          "name": "stdout",
          "text": [
            "[54, 48, 45, 21, 89, 87, 15, 78, 70]\n"
          ]
        }
      ]
    },
    {
      "cell_type": "markdown",
      "source": [
        "**LINKED LIST**\n"
      ],
      "metadata": {
        "id": "OSfzYy3lIsab"
      }
    },
    {
      "cell_type": "code",
      "source": [
        "class Node:\n",
        "  def __init__(self,data):\n",
        "    self.data = data\n",
        "    self.next = None\n",
        "def push(head_ref, new_data):\n",
        "      new_node = Node(new_data)\n",
        "      new_node.next = (head_ref)\n",
        "      return new_node\n",
        "def appened(head_ref,new_data):\n",
        "        new_node = Node(new_data)\n",
        "        if head_ref is None:\n",
        "         return new_node\n",
        "        last = head_ref\n",
        "        while (last.next):\n",
        "          last = last.next\n",
        "        last.next = new_node\n",
        "        return head_ref\n",
        "def insertAtFront(head_ref,new_data):\n",
        "  new_node = Node(new_data)\n",
        "  new_node.next = head_ref\n",
        "  return new_node\n",
        "def removalFistNode(head_ref):\n",
        "  if not head:\n",
        "    return None\n",
        "  temp = head\n",
        "  head = head.next\n",
        "  temp = None\n",
        "  return head\n",
        "def printList(node):\n",
        "    while node:\n",
        "      print(node.data,end=\"\")\n",
        "      node = node.next\n",
        "\n",
        "if __name__ == \"__main__\":\n",
        "     head = None\n",
        "     head = push(head, 1)\n",
        "     head = push(head, 2)\n",
        "     head = push(head, 3)\n",
        "     printList(head)\n",
        "     head = insertAtFront(head,12)\n",
        "     printList(head)\n",
        "     head = appened(head,13)\n",
        "     printList(head)\n",
        "     head = appened(head,33)\n",
        "     print(\"Created Linked list is:\")\n",
        "     printList(head)\n",
        "\n",
        "\n"
      ],
      "metadata": {
        "id": "xMuisuEUA-Ur",
        "colab": {
          "base_uri": "https://localhost:8080/"
        },
        "outputId": "2c1f1cc5-8fb1-4a93-af78-9630135f36c2"
      },
      "execution_count": null,
      "outputs": [
        {
          "output_type": "stream",
          "name": "stdout",
          "text": [
            "321123211232113Created Linked list is:\n",
            "123211333"
          ]
        }
      ]
    },
    {
      "cell_type": "code",
      "source": [],
      "metadata": {
        "id": "JU64SGnBT-vP"
      },
      "execution_count": null,
      "outputs": []
    }
  ]
}